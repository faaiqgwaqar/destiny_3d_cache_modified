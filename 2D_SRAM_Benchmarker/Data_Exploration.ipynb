{
 "cells": [
  {
   "cell_type": "code",
   "execution_count": 62,
   "id": "8f620fd5",
   "metadata": {},
   "outputs": [],
   "source": [
    "import re\n",
    "import os\n",
    "import numpy as np\n",
    "import matplotlib.pyplot as plt"
   ]
  },
  {
   "cell_type": "code",
   "execution_count": 60,
   "id": "d054d252",
   "metadata": {},
   "outputs": [],
   "source": [
    "units_scalar = {\n",
    "    'P':1e15 ,\n",
    "    'T':1e12 ,\n",
    "    'G':1e9 ,\n",
    "    'M':1e6 ,\n",
    "    'k':1e3 ,\n",
    "    'm':1e-3 ,\n",
    "    'u':1e-6 ,\n",
    "    'n':1e-9 ,\n",
    "    'p':1e-12 ,\n",
    "    'f':1e-15 ,\n",
    "    'a':1e-18 ,\n",
    "    '%':1e-2 \n",
    "}\n",
    "\n",
    "macros = [\"Data Bank\", \"Tag Bank\"]"
   ]
  },
  {
   "cell_type": "code",
   "execution_count": 9,
   "id": "27344069",
   "metadata": {},
   "outputs": [],
   "source": [
    "# Directory where the files are located\n",
    "area_optimized_path = \"results/Area_Optimized\"\n",
    "edp_optimized_path = \"results/EDP_Write_Optimized\"\n",
    "latency_optimized_path = \"results/Latency_Write_Optimized\"\n",
    "temperature_sweep_path = \"results/Temperature_Sweep\""
   ]
  },
  {
   "cell_type": "code",
   "execution_count": 10,
   "id": "1430a7d2",
   "metadata": {},
   "outputs": [],
   "source": [
    "def numerical_sort(title):\n",
    "    # Use a regular expression to find the numerical part\n",
    "    match = re.search(r'^(\\d+)', title)\n",
    "    if match:\n",
    "        return int(match.group(1))\n",
    "    else:\n",
    "        # Return a high value for items that don't match the pattern to move them to the end of the list\n",
    "        return float('inf')"
   ]
  },
  {
   "cell_type": "code",
   "execution_count": 11,
   "id": "1aa97d6e",
   "metadata": {},
   "outputs": [],
   "source": [
    "def collate_major_results(directory_path, reverse):\n",
    "    # Regular expression pattern to match \"key = content\" lines with a numerical piece and units piece\n",
    "    result_dict = {}\n",
    "\n",
    "    pattern = r'^\\s*-\\s*(\\w+)\\s*=\\s*([\\d.]+)\\s*([A-Za-z]+)\\s*$'\n",
    "\n",
    "    for filename in sorted(os.listdir(directory_path), key=numerical_sort, reverse=reverse):\n",
    "        if filename.endswith(\".txt\"):\n",
    "            file_path = os.path.join(directory_path, filename)\n",
    "            # Open the file for reading\n",
    "            with open(file_path, \"r\") as file:\n",
    "                # Open the file \"results.txt\" for reading\n",
    "                for line in file:\n",
    "                    # Strip leading and trailing whitespaces\n",
    "                    line = line.strip()\n",
    "\n",
    "                    # Check if the line starts with a \"-\"\n",
    "                    if line.startswith(\"-\"):\n",
    "                        # Split the line into key and content\n",
    "                        parts = line[1:].split(\"=\")\n",
    "\n",
    "                        # Ensure there are exactly two parts\n",
    "                        if len(parts) == 2:\n",
    "                            key, content = parts[0].strip(), parts[1].strip()\n",
    "\n",
    "                            if key in result_dict:\n",
    "                                # Add key and content to the dictionary\n",
    "                                result_dict[key] = np.append(result_dict[key],content)\n",
    "                            else:\n",
    "                                result_dict[key] = np.array([content])\n",
    "\n",
    "    return result_dict"
   ]
  },
  {
   "cell_type": "code",
   "execution_count": 20,
   "id": "7ae288cc",
   "metadata": {},
   "outputs": [],
   "source": [
    "def collate_minor_results(directory_path, reverse):\n",
    "    # Regular expression pattern to match \"key = content\" lines with a numerical piece and units piece\n",
    "    result_dict = {}\n",
    "\n",
    "    pattern = r'^\\s*-\\s*(\\w+)\\s*=\\s*([\\d.]+)\\s*([A-Za-z]+)\\s*$'\n",
    "\n",
    "    for filename in sorted(os.listdir(directory_path), key=numerical_sort, reverse=reverse):\n",
    "        if filename.endswith(\".txt\"):\n",
    "            file_path = os.path.join(directory_path, filename)\n",
    "            # Open the file for reading\n",
    "            with open(file_path, \"r\") as file:\n",
    "                # Open the file \"results.txt\" for reading\n",
    "                for line in file:\n",
    "                    # Strip leading and trailing whitespaces\n",
    "                    line = line.strip()\n",
    "\n",
    "                    # Check if the line starts with a \"-\"\n",
    "                    if line.startswith(\"|---\"):\n",
    "                        # Split the line into key and content\n",
    "                        parts = line[4:].split(\"=\")\n",
    "\n",
    "                        # Ensure there are exactly two parts\n",
    "                        if len(parts) == 2:\n",
    "                            key, content = parts[0].strip(), parts[1].strip()\n",
    "\n",
    "                            if key in result_dict:\n",
    "                                # Add key and content to the dictionary\n",
    "                                result_dict[key] = np.append(result_dict[key],content)\n",
    "                            else:\n",
    "                                result_dict[key] = np.array([content])\n",
    "\n",
    "    return result_dict"
   ]
  },
  {
   "cell_type": "code",
   "execution_count": 25,
   "id": "7b5a30fe",
   "metadata": {},
   "outputs": [],
   "source": [
    "def split_number_and_units(input_str):\n",
    "    number = ''\n",
    "    units = input_str  # Initialize units with the whole input string\n",
    "\n",
    "    # Loop through the characters to separate number and units\n",
    "    for char in input_str:\n",
    "        if char.isnumeric() or char == '.':\n",
    "            number += char\n",
    "        else:\n",
    "            break  # Stop when a non-numeric character is encountered\n",
    "\n",
    "    # Remove any leading whitespace from units\n",
    "    units = units[len(number):].lstrip()\n",
    "\n",
    "    number = float(number) if number else None\n",
    "    return number, units"
   ]
  },
  {
   "cell_type": "code",
   "execution_count": 14,
   "id": "1c9724bc",
   "metadata": {},
   "outputs": [],
   "source": [
    "area_dict_0 = collate_major_results(area_optimized_path, True)\n",
    "edp_dict_0 = collate_major_results(edp_optimized_path, True)\n",
    "latency_dict_0 = collate_major_results(latency_optimized_path, True)\n",
    "temperature_dict_0 = collate_major_results(temperature_sweep_path, False)"
   ]
  },
  {
   "cell_type": "code",
   "execution_count": 21,
   "id": "be6cac44",
   "metadata": {},
   "outputs": [],
   "source": [
    "area_dict_1 = collate_minor_results(area_optimized_path, True)\n",
    "edp_dict_1 = collate_minor_results(edp_optimized_path, True)\n",
    "latency_dict_1 = collate_minor_results(latency_optimized_path, True)\n",
    "temperature_dict_1 = collate_minor_results(temperature_sweep_path, False)"
   ]
  },
  {
   "cell_type": "code",
   "execution_count": 17,
   "id": "95e38000",
   "metadata": {},
   "outputs": [],
   "source": [
    "def print_contents(result_dict):\n",
    "    for key, data in result_dict.items():\n",
    "        print(f\"{key} = {', '.join([num for num in data])}\")"
   ]
  },
  {
   "cell_type": "code",
   "execution_count": 7,
   "id": "68052d46",
   "metadata": {},
   "outputs": [],
   "source": [
    "area_labels = [file_name.replace(\".txt\", \"\") for file_name in sorted(os.listdir(area_optimized_path), key=numerical_sort, reverse=True)]\n",
    "edp_labels = [file_name.replace(\".txt\", \"\") for file_name in sorted(os.listdir(edp_optimized_path), key=numerical_sort, reverse=True)]\n",
    "latency_labels = [file_name.replace(\".txt\", \"\") for file_name in sorted(os.listdir(latency_optimized_path), key=numerical_sort, reverse=True)]\n",
    "temperature_labels = [file_name.replace(\".txt\", \"\") for file_name in sorted(os.listdir(temperature_sweep_path), key=numerical_sort, reverse=False)]"
   ]
  },
  {
   "cell_type": "code",
   "execution_count": 55,
   "id": "e31ec9cc",
   "metadata": {},
   "outputs": [],
   "source": [
    "def split_and_normalize_units(result_dict):\n",
    "    new_units_dict = {}\n",
    "    new_numbers_dict = {}\n",
    "    for key, data in result_dict.items():\n",
    "        for data_point in data:\n",
    "            number, units = split_number_and_units(data_point)\n",
    "            \n",
    "            if key in new_units_dict:\n",
    "                if units[0] != new_units_dict[key][0]:\n",
    "                    number *= (units_scalar[units[0]]/units_scalar[new_units_dict[key][0]])\n",
    "            else:\n",
    "                new_units_dict[key] = units\n",
    "                \n",
    "            if key in new_numbers_dict:\n",
    "                # Add key and content to the dictionary\n",
    "                new_numbers_dict[key] = np.append(new_numbers_dict[key],number)\n",
    "            else:\n",
    "                new_numbers_dict[key] = np.array([number])\n",
    "            \n",
    "    return new_numbers_dict, new_units_dict"
   ]
  },
  {
   "cell_type": "code",
   "execution_count": 59,
   "id": "d49fcbe6",
   "metadata": {},
   "outputs": [],
   "source": [
    "area_numbers_0, area_units_0 = split_and_normalize_units(area_dict_0)\n",
    "area_numbers_1, area_units_1 = split_and_normalize_units(area_dict_1)\n",
    "edp_numbers_0, edp_units_0 = split_and_normalize_units(edp_dict_0)\n",
    "edp_numbers_1, edp_units_1 = split_and_normalize_units(edp_dict_1)\n",
    "latency_numbers_0, latency_units_0 = split_and_normalize_units(latency_dict_0)\n",
    "latency_numbers_1, latency_units_1 = split_and_normalize_units(latency_dict_1)\n",
    "temperature_numbers_0, temperature_units_0 = split_and_normalize_units(temperature_dict_0)\n",
    "temperature_numbers_1, temperature_units_1 = split_and_normalize_units(temperature_dict_1)"
   ]
  },
  {
   "cell_type": "code",
   "execution_count": 61,
   "id": "1e8fb3bf",
   "metadata": {},
   "outputs": [],
   "source": [
    "all_number_dicts = [area_numbers_0, area_numbers_1, edp_numbers_0, edp_numbers_1, latency_numbers_0, latency_numbers_1, temperature_numbers_0, temperature_numbers_1]\n",
    "all_units_dicts = [area_units_0, area_units_1, edp_units_0, edp_units_1, latency_units_0, latency_units_1, temperature_units_0, temperature_units_1]"
   ]
  },
  {
   "cell_type": "code",
   "execution_count": 77,
   "id": "08aa05a9",
   "metadata": {},
   "outputs": [],
   "source": [
    "def create_bar_plot(filename, save_location, values, labels, units):\n",
    "    # Check if the lengths of values and labels match\n",
    "    if (len(values) != len(labels)) and (len(values) != 2*len(labels)):\n",
    "        # print(len(values))\n",
    "        # print(len(labels))\n",
    "        raise ValueError(\"Number of values and labels must be the same.\")\n",
    "\n",
    "    if(len(values) == len(labels)):\n",
    "        # Create a bar plot\n",
    "        plt.figure(figsize=(10, 6))\n",
    "        plt.bar(labels, values, color='skyblue')\n",
    "\n",
    "        # Add values above the bars\n",
    "        for i, value in enumerate(values):\n",
    "            plt.text(i, value, str(value), ha='center', va='bottom')\n",
    "\n",
    "        plt.title(filename)\n",
    "        plt.xlabel('Labels')\n",
    "        plt.ylabel(f'Units: {units}')\n",
    "\n",
    "        # Rotate x-axis labels for better readability\n",
    "        plt.xticks(rotation=45, ha='right')\n",
    "\n",
    "        # Save the plot to the specified location\n",
    "        plt.tight_layout()\n",
    "        plt.savefig(os.path.join(save_location,filename+\".png\"), dpi=300)\n",
    "        plt.close()\n",
    "    \n",
    "    else:\n",
    "        plt.figure(figsize=(10, 6))\n",
    "        plt.bar(labels, values[0::2], color='skyblue')\n",
    "\n",
    "        # Add values above the bars\n",
    "        for i,value in enumerate(values[0::2]):\n",
    "            plt.text(i, value, str(value), ha='center', va='bottom')\n",
    "\n",
    "        plt.title(filename + \" Data Bank\")\n",
    "        plt.xlabel('Labels')\n",
    "        plt.ylabel(f'Units: {units}')\n",
    "\n",
    "        # Rotate x-axis labels for better readability\n",
    "        plt.xticks(rotation=45, ha='right')\n",
    "\n",
    "        # Save the plot to the specified location\n",
    "        plt.tight_layout()\n",
    "        plt.savefig(os.path.join(save_location,filename+\" Data.png\"), dpi=300)\n",
    "        plt.close()\n",
    "        \n",
    "        plt.figure(figsize=(10, 6))\n",
    "        plt.bar(labels, values[1::2], color='skyblue')\n",
    "\n",
    "        # Add values above the bars\n",
    "        for i,value in enumerate(values[1::2]):\n",
    "            plt.text(i, value, str(value), ha='center', va='bottom')\n",
    "\n",
    "        plt.title(filename + \" Tag Bank\")\n",
    "        plt.xlabel('Labels')\n",
    "        plt.ylabel(f'Units: {units}')\n",
    "\n",
    "        # Rotate x-axis labels for better readability\n",
    "        plt.xticks(rotation=45, ha='right')\n",
    "\n",
    "        # Save the plot to the specified location\n",
    "        plt.tight_layout()\n",
    "        plt.savefig(os.path.join(save_location,filename+\" Tag.png\"), dpi=300)\n",
    "        plt.close()"
   ]
  },
  {
   "cell_type": "code",
   "execution_count": 78,
   "id": "c4b8baa6",
   "metadata": {},
   "outputs": [],
   "source": [
    "def save_figures(dictionary, units, labels, dirname):\n",
    "    for key, data in dictionary.items():\n",
    "        create_bar_plot(key, dirname, data, labels, units[key])"
   ]
  },
  {
   "cell_type": "code",
   "execution_count": 79,
   "id": "834e5d12",
   "metadata": {},
   "outputs": [],
   "source": [
    "save_figures(area_numbers_0, area_units_0, area_labels, \"plots_area\")\n",
    "save_figures(edp_numbers_0, edp_units_0, edp_labels, \"plots_edp\")\n",
    "save_figures(latency_numbers_0, latency_units_0, later_labels, \"plots_area\")\n",
    "save_figures(area_numbers_0, area_units_0, area_labels, \"plots_area\")"
   ]
  }
 ],
 "metadata": {
  "kernelspec": {
   "display_name": "Python 3 (ipykernel)",
   "language": "python",
   "name": "python3"
  },
  "language_info": {
   "codemirror_mode": {
    "name": "ipython",
    "version": 3
   },
   "file_extension": ".py",
   "mimetype": "text/x-python",
   "name": "python",
   "nbconvert_exporter": "python",
   "pygments_lexer": "ipython3",
   "version": "3.8.10"
  }
 },
 "nbformat": 4,
 "nbformat_minor": 5
}
