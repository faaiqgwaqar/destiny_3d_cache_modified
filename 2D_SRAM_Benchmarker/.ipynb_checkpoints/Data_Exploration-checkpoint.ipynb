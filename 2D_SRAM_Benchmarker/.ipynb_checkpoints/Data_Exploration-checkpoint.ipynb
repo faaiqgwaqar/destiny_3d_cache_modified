{
 "cells": [
  {
   "cell_type": "code",
   "execution_count": 1,
   "id": "616d6b53",
   "metadata": {},
   "outputs": [],
   "source": [
    "import re\n",
    "import os\n",
    "import numpy as np"
   ]
  },
  {
   "cell_type": "code",
   "execution_count": 2,
   "id": "5b376e73",
   "metadata": {},
   "outputs": [],
   "source": [
    "# Directory where the files are located\n",
    "area_optimized_path = \"results/Area_Optimized\"\n",
    "edp_optimized_path = \"results/EDP_Write_Optimized\"\n",
    "latency_optimized_path = \"results/Latency_Write_Optimized\"\n",
    "temperature_sweep_path = \"results/Temperature_Sweep\""
   ]
  },
  {
   "cell_type": "code",
   "execution_count": 3,
   "id": "bfda8139",
   "metadata": {},
   "outputs": [],
   "source": [
    "def numerical_sort(title):\n",
    "    # Use a regular expression to find the numerical part\n",
    "    match = re.search(r'^(\\d+)', title)\n",
    "    if match:\n",
    "        return int(match.group(1))\n",
    "    else:\n",
    "        # Return a high value for items that don't match the pattern to move them to the end of the list\n",
    "        return float('inf')"
   ]
  },
  {
   "cell_type": "code",
   "execution_count": 4,
   "id": "78881fda",
   "metadata": {},
   "outputs": [],
   "source": [
    "def collate_results(directory_path, reverse):\n",
    "    # Regular expression pattern to match \"key = content\" lines with a numerical piece and units piece\n",
    "    result_dict = {}\n",
    "\n",
    "    pattern = r'^\\s*-\\s*(\\w+)\\s*=\\s*([\\d.]+)\\s*([A-Za-z]+)\\s*$'\n",
    "\n",
    "    for filename in sorted(os.listdir(directory_path), key=numerical_sort, reverse=reverse):\n",
    "        if filename.endswith(\".txt\"):\n",
    "            file_path = os.path.join(directory_path, filename)\n",
    "            # Open the file for reading\n",
    "            with open(file_path, \"r\") as file:\n",
    "                # Open the file \"results.txt\" for reading\n",
    "                for line in file:\n",
    "                    # Strip leading and trailing whitespaces\n",
    "                    line = line.strip()\n",
    "\n",
    "                    # Check if the line starts with a \"-\"\n",
    "                    if line.startswith(\"-\"):\n",
    "                        # Split the line into key and content\n",
    "                        parts = line[1:].split(\"=\")\n",
    "\n",
    "                        # Ensure there are exactly two parts\n",
    "                        if len(parts) == 2:\n",
    "                            key, content = parts[0].strip(), parts[1].strip()\n",
    "\n",
    "                            if key in result_dict:\n",
    "                                # Add key and content to the dictionary\n",
    "                                result_dict[key] = np.append(result_dict[key],content)\n",
    "                            else:\n",
    "                                result_dict[key] = np.array([content])\n",
    "\n",
    "    return result_dict"
   ]
  },
  {
   "cell_type": "code",
   "execution_count": 5,
   "id": "5e862a8c",
   "metadata": {},
   "outputs": [],
   "source": [
    "area_dict = collate_results(area_optimized_path, True)\n",
    "edp_dict = collate_results(edp_optimized_path, True)\n",
    "latency_dict = collate_results(latency_optimized_path, True)\n",
    "temperature_dict = collate_results(temperature_sweep_path, False)"
   ]
  },
  {
   "cell_type": "code",
   "execution_count": 6,
   "id": "20ab4bbe",
   "metadata": {},
   "outputs": [],
   "source": [
    "def print_contents(result_dict):\n",
    "    for key, data in result_dict.items():\n",
    "        print(f\"{key} = {', '.join([num for num in data])}\")"
   ]
  },
  {
   "cell_type": "code",
   "execution_count": null,
   "id": "3cc32692",
   "metadata": {},
   "outputs": [],
   "source": [
    "print_contents(area_dict)"
   ]
  },
  {
   "cell_type": "code",
   "execution_count": null,
   "id": "4235e2c5",
   "metadata": {},
   "outputs": [],
   "source": [
    "print_contents(edp_dict)"
   ]
  },
  {
   "cell_type": "code",
   "execution_count": null,
   "id": "42cbf848",
   "metadata": {},
   "outputs": [],
   "source": [
    "print_contents(latency_dict)"
   ]
  },
  {
   "cell_type": "code",
   "execution_count": null,
   "id": "3d35a0a2",
   "metadata": {},
   "outputs": [],
   "source": [
    "print_contents(temperature_dict)"
   ]
  },
  {
   "cell_type": "code",
   "execution_count": 10,
   "id": "4db3a500",
   "metadata": {},
   "outputs": [],
   "source": [
    "area_labels = [file_name.replace(\".txt\", \"\") for file_name in sorted(os.listdir(area_optimized_path), key=numerical_sort, reverse=True)]\n",
    "edp_labels = [file_name.replace(\".txt\", \"\") for file_name in sorted(os.listdir(area_optimized_path), key=numerical_sort, reverse=True)]\n",
    "latency_labels = [file_name.replace(\".txt\", \"\") for file_name in sorted(os.listdir(area_optimized_path), key=numerical_sort, reverse=True)]\n",
    "temperature_labels = [file_name.replace(\".txt\", \"\") for file_name in sorted(os.listdir(area_optimized_path), key=numerical_sort, reverse=False)]"
   ]
  },
  {
   "cell_type": "code",
   "execution_count": null,
   "id": "638f4303",
   "metadata": {},
   "outputs": [],
   "source": []
  }
 ],
 "metadata": {
  "kernelspec": {
   "display_name": "Python 3 (ipykernel)",
   "language": "python",
   "name": "python3"
  },
  "language_info": {
   "codemirror_mode": {
    "name": "ipython",
    "version": 3
   },
   "file_extension": ".py",
   "mimetype": "text/x-python",
   "name": "python",
   "nbconvert_exporter": "python",
   "pygments_lexer": "ipython3",
   "version": "3.8.10"
  }
 },
 "nbformat": 4,
 "nbformat_minor": 5
}
